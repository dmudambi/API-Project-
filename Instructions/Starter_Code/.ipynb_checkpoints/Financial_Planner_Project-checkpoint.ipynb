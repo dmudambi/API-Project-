{
 "cells": [
  {
   "cell_type": "markdown",
   "metadata": {},
   "source": [
    "# Unit 5 - Financial Planning\n"
   ]
  },
  {
   "cell_type": "code",
   "execution_count": 3,
   "metadata": {},
   "outputs": [],
   "source": [
    "# Initial imports\n",
    "import os\n",
    "import requests\n",
    "import pandas as pd\n",
    "from dotenv import load_dotenv\n",
    "import alpaca_trade_api as tradeapi\n",
    "from MCForecastTools import MCSimulation\n",
    "\n",
    "%matplotlib inline"
   ]
  },
  {
   "cell_type": "code",
   "execution_count": 4,
   "metadata": {},
   "outputs": [
    {
     "data": {
      "text/plain": [
       "True"
      ]
     },
     "execution_count": 4,
     "metadata": {},
     "output_type": "execute_result"
    }
   ],
   "source": [
    "# Load .env enviroment variables\n",
    "load_dotenv()"
   ]
  },
  {
   "cell_type": "markdown",
   "metadata": {},
   "source": [
    "## Part 1 - Personal Finance Planner"
   ]
  },
  {
   "cell_type": "markdown",
   "metadata": {},
   "source": [
    "### Collect Crypto Prices Using the `requests` Library"
   ]
  },
  {
   "cell_type": "code",
   "execution_count": 5,
   "metadata": {},
   "outputs": [],
   "source": [
    "# Set current amount of crypto assets\n",
    "# YOUR CODE HERE!\n",
    "my_btc = 1.2\n",
    "my_eth = 5.3"
   ]
  },
  {
   "cell_type": "code",
   "execution_count": 6,
   "metadata": {},
   "outputs": [],
   "source": [
    "# Crypto API URLs\n",
    "btc_url = \"https://api.alternative.me/v2/ticker/Bitcoin/?convert=CAD\"\n",
    "eth_url = \"https://api.alternative.me/v2/ticker/Ethereum/?convert=CAD\""
   ]
  },
  {
   "cell_type": "code",
   "execution_count": 7,
   "metadata": {},
   "outputs": [
    {
     "name": "stdout",
     "output_type": "stream",
     "text": [
      "The current value of your 1.2 BTC is $15517.99\n",
      "The current value of your 5.3 ETH is $68537.80\n"
     ]
    }
   ],
   "source": [
    "# Fetch current BTC price\n",
    "# YOUR CODE HERE!\n",
    "btc_init = requests.get(btc_url).json()\n",
    "btc_price = btc_init['data']['1']['quotes']['USD']['price']\n",
    "\n",
    "# Fetch current ETH price\n",
    "# YOUR CODE HERE!]\n",
    "eth_init = requests.get(eth_url).json()\n",
    "eth_price = eth_init['data']['1027']['quotes']['USD']['price']\n",
    "\n",
    "# Compute current value of my crpto\n",
    "# YOUR CODE HERE!\n",
    "total_btc = my_btc*btc_price \n",
    "total_eth = my_eth*btc_price\n",
    "\n",
    "# Print current crypto wallet balance\n",
    "print(f\"The current value of your {my_btc} BTC is ${total_btc:0.2f}\")\n",
    "print(f\"The current value of your {my_eth} ETH is ${total_eth:0.2f}\")"
   ]
  },
  {
   "cell_type": "markdown",
   "metadata": {},
   "source": [
    "### Collect Investments Data Using Alpaca: `SPY` (stocks) and `AGG` (bonds)"
   ]
  },
  {
   "cell_type": "code",
   "execution_count": 8,
   "metadata": {},
   "outputs": [],
   "source": [
    "# Current amount of shares\n",
    "# YOUR CODE HERE!\n",
    "my_agg = 200\n",
    "my_spy = 50"
   ]
  },
  {
   "cell_type": "code",
   "execution_count": 9,
   "metadata": {},
   "outputs": [],
   "source": [
    "# Set Alpaca API key and secret\n",
    "# YOUR CODE HERE!\n",
    "alpaca_api_key = os.getenv(\"ALPACA_API_KEY\")\n",
    "alpaca_secret_key = os.getenv(\"ALPACA_SECRET_KEY\")\n",
    "\n",
    "# Create the Alpaca API object\n",
    "# YOUR CODE HERE!\n",
    "alpaca = tradeapi.REST(\n",
    "    alpaca_api_key,\n",
    "    alpaca_secret_key,\n",
    "    api_version=\"v2\")"
   ]
  },
  {
   "cell_type": "code",
   "execution_count": 10,
   "metadata": {},
   "outputs": [
    {
     "data": {
      "text/html": [
       "<div>\n",
       "<style scoped>\n",
       "    .dataframe tbody tr th:only-of-type {\n",
       "        vertical-align: middle;\n",
       "    }\n",
       "\n",
       "    .dataframe tbody tr th {\n",
       "        vertical-align: top;\n",
       "    }\n",
       "\n",
       "    .dataframe thead tr th {\n",
       "        text-align: left;\n",
       "    }\n",
       "</style>\n",
       "<table border=\"1\" class=\"dataframe\">\n",
       "  <thead>\n",
       "    <tr>\n",
       "      <th></th>\n",
       "      <th colspan=\"5\" halign=\"left\">AGG</th>\n",
       "      <th colspan=\"5\" halign=\"left\">SPY</th>\n",
       "    </tr>\n",
       "    <tr>\n",
       "      <th></th>\n",
       "      <th>open</th>\n",
       "      <th>high</th>\n",
       "      <th>low</th>\n",
       "      <th>close</th>\n",
       "      <th>volume</th>\n",
       "      <th>open</th>\n",
       "      <th>high</th>\n",
       "      <th>low</th>\n",
       "      <th>close</th>\n",
       "      <th>volume</th>\n",
       "    </tr>\n",
       "  </thead>\n",
       "  <tbody>\n",
       "    <tr>\n",
       "      <th>2020-10-22 00:00:00-04:00</th>\n",
       "      <td>117.51</td>\n",
       "      <td>117.54</td>\n",
       "      <td>117.3</td>\n",
       "      <td>117.31</td>\n",
       "      <td>3938694</td>\n",
       "      <td>342.96</td>\n",
       "      <td>345.24</td>\n",
       "      <td>340.65</td>\n",
       "      <td>344.63</td>\n",
       "      <td>45094573</td>\n",
       "    </tr>\n",
       "  </tbody>\n",
       "</table>\n",
       "</div>"
      ],
      "text/plain": [
       "                              AGG                                     SPY  \\\n",
       "                             open    high    low   close   volume    open   \n",
       "2020-10-22 00:00:00-04:00  117.51  117.54  117.3  117.31  3938694  342.96   \n",
       "\n",
       "                                                             \n",
       "                             high     low   close    volume  \n",
       "2020-10-22 00:00:00-04:00  345.24  340.65  344.63  45094573  "
      ]
     },
     "execution_count": 10,
     "metadata": {},
     "output_type": "execute_result"
    }
   ],
   "source": [
    "# Format current date as ISO format\n",
    "# YOUR CODE HERE!\n",
    "today = pd.Timestamp(\"2020-10-22\", tz=\"America/New_York\").isoformat()\n",
    "\n",
    "# Set the tickers\n",
    "tickers = [\"AGG\", \"SPY\"]\n",
    "\n",
    "# Set timeframe to '1D' for Alpaca API\n",
    "timeframe = \"1D\"\n",
    "\n",
    "# Get current closing prices for SPY and AGG\n",
    "# YOUR CODE HERE!\n",
    "df_portfolio = alpaca.get_barset(\n",
    "    tickers,\n",
    "    timeframe,\n",
    "    start = today,\n",
    "    end = today\n",
    ").df\n",
    "\n",
    "# Preview DataFrame\n",
    "# YOUR CODE HERE!\n",
    "df_portfolio"
   ]
  },
  {
   "cell_type": "code",
   "execution_count": 11,
   "metadata": {},
   "outputs": [
    {
     "name": "stdout",
     "output_type": "stream",
     "text": [
      "Current AGG closing price: $117.31\n",
      "Current SPY closing price: $344.63\n"
     ]
    }
   ],
   "source": [
    "# Pick AGG and SPY close prices\n",
    "# YOUR CODE HERE!\n",
    "agg_close_price = float(df_portfolio['AGG']['close'])\n",
    "spy_close_price = float(df_portfolio['SPY']['close'])\n",
    "\n",
    "# Print AGG and SPY close prices\n",
    "print(f\"Current AGG closing price: ${agg_close_price}\")\n",
    "print(f\"Current SPY closing price: ${spy_close_price}\")"
   ]
  },
  {
   "cell_type": "code",
   "execution_count": 12,
   "metadata": {},
   "outputs": [
    {
     "name": "stdout",
     "output_type": "stream",
     "text": [
      "The current value of your 50 SPY shares is $17231.50\n",
      "The current value of your 200 AGG shares is $23462.00\n"
     ]
    }
   ],
   "source": [
    "# Compute the current value of shares\n",
    "# YOUR CODE HERE!\n",
    "my_spy_value = spy_close_price * my_spy\n",
    "my_agg_value = agg_close_price * my_agg\n",
    "\n",
    "# Print current value of share\n",
    "print(f\"The current value of your {my_spy} SPY shares is ${my_spy_value:0.2f}\")\n",
    "print(f\"The current value of your {my_agg} AGG shares is ${my_agg_value:0.2f}\")"
   ]
  },
  {
   "cell_type": "markdown",
   "metadata": {},
   "source": [
    "### Savings Health Analysis"
   ]
  },
  {
   "cell_type": "code",
   "execution_count": 51,
   "metadata": {},
   "outputs": [
    {
     "data": {
      "text/html": [
       "<div>\n",
       "<style scoped>\n",
       "    .dataframe tbody tr th:only-of-type {\n",
       "        vertical-align: middle;\n",
       "    }\n",
       "\n",
       "    .dataframe tbody tr th {\n",
       "        vertical-align: top;\n",
       "    }\n",
       "\n",
       "    .dataframe thead th {\n",
       "        text-align: right;\n",
       "    }\n",
       "</style>\n",
       "<table border=\"1\" class=\"dataframe\">\n",
       "  <thead>\n",
       "    <tr style=\"text-align: right;\">\n",
       "      <th></th>\n",
       "      <th>amount</th>\n",
       "    </tr>\n",
       "  </thead>\n",
       "  <tbody>\n",
       "    <tr>\n",
       "      <th>crypto</th>\n",
       "      <td>40693.50</td>\n",
       "    </tr>\n",
       "    <tr>\n",
       "      <th>shares</th>\n",
       "      <td>84055.79</td>\n",
       "    </tr>\n",
       "  </tbody>\n",
       "</table>\n",
       "</div>"
      ],
      "text/plain": [
       "          amount\n",
       "crypto  40693.50\n",
       "shares  84055.79"
      ]
     },
     "metadata": {},
     "output_type": "display_data"
    }
   ],
   "source": [
    "# Set monthly household income\n",
    "# YOUR CODE HERE!\n",
    "monthly_income = 12000\n",
    "\n",
    "# Create savings DataFrame\n",
    "# YOUR CODE HERE! \n",
    "total_crypto = total_btc+total_eth\n",
    "total_shares = my_spy_value + my_agg_value\n",
    "data_value = {'crypto' : [total_shares],\n",
    "              'shares' : [total_crypto]\n",
    "             }\n",
    "df_savings = pd.DataFrame(data_value)\n",
    "df_savings = df_savings.transpose()\n",
    "df_savings.columns = ['amount']\n",
    "# Display savings DataFrame\n",
    "display(df_savings)"
   ]
  },
  {
   "cell_type": "code",
   "execution_count": 48,
   "metadata": {},
   "outputs": [
    {
     "data": {
      "text/plain": [
       "<matplotlib.axes._subplots.AxesSubplot at 0x7fde759b8410>"
      ]
     },
     "execution_count": 48,
     "metadata": {},
     "output_type": "execute_result"
    },
    {
     "data": {
      "image/png": "[encoded data removed]",
      "text/plain": [
       "<Figure size 432x288 with 1 Axes>"
      ]
     },
     "metadata": {},
     "output_type": "display_data"
    }
   ],
   "source": [
    "# Plot savings pie chart\n",
    "# YOUR CODE HERE!\n",
    "df_savings.plot.pie(y='amount', title = \"Composition of Personal Savings\")"
   ]
  },
  {
   "cell_type": "code",
   "execution_count": 55,
   "metadata": {},
   "outputs": [
    {
     "name": "stdout",
     "output_type": "stream",
     "text": [
      "Congratulations! You have enough money in your emergency fund.\n"
     ]
    }
   ],
   "source": [
    "# Set ideal emergency fund\n",
    "emergency_fund = monthly_income * 3\n",
    "\n",
    "# Calculate total amount of savings\n",
    "# YOUR CODE HERE!\n",
    "total_savings = total_shares + total_crypto\n",
    "total_savings\n",
    "\n",
    "# Validate saving health\n",
    "# YOUR CODE HERE!\n",
    "if total_savings >= emergency_fund:\n",
    "    print('Congratulations! You have enough money in your emergency fund.')\n",
    "else:\n",
    "    print(\"You don't have enough money in your emergency fund.\")"
   ]
  },
  {
   "cell_type": "markdown",
   "metadata": {},
   "source": [
    "## Part 2 - Retirement Planning\n",
    "\n",
    "### Monte Carlo Simulation"
   ]
  },
  {
   "cell_type": "code",
   "execution_count": 57,
   "metadata": {},
   "outputs": [],
   "source": [
    "# Set start and end dates of five years back from today.\n",
    "# Sample results may vary from the solution based on the time frame chosen\n",
    "start_date = pd.Timestamp('2015-08-07', tz='America/New_York').isoformat()\n",
    "end_date = pd.Timestamp('2020-08-07', tz='America/New_York').isoformat()"
   ]
  },
  {
   "cell_type": "code",
   "execution_count": 58,
   "metadata": {},
   "outputs": [
    {
     "data": {
      "text/html": [
       "<div>\n",
       "<style scoped>\n",
       "    .dataframe tbody tr th:only-of-type {\n",
       "        vertical-align: middle;\n",
       "    }\n",
       "\n",
       "    .dataframe tbody tr th {\n",
       "        vertical-align: top;\n",
       "    }\n",
       "\n",
       "    .dataframe thead tr th {\n",
       "        text-align: left;\n",
       "    }\n",
       "</style>\n",
       "<table border=\"1\" class=\"dataframe\">\n",
       "  <thead>\n",
       "    <tr>\n",
       "      <th></th>\n",
       "      <th colspan=\"5\" halign=\"left\">AGG</th>\n",
       "      <th colspan=\"5\" halign=\"left\">SPY</th>\n",
       "    </tr>\n",
       "    <tr>\n",
       "      <th></th>\n",
       "      <th>open</th>\n",
       "      <th>high</th>\n",
       "      <th>low</th>\n",
       "      <th>close</th>\n",
       "      <th>volume</th>\n",
       "      <th>open</th>\n",
       "      <th>high</th>\n",
       "      <th>low</th>\n",
       "      <th>close</th>\n",
       "      <th>volume</th>\n",
       "    </tr>\n",
       "  </thead>\n",
       "  <tbody>\n",
       "    <tr>\n",
       "      <th>2015-08-07 00:00:00-04:00</th>\n",
       "      <td>109.14</td>\n",
       "      <td>109.2750</td>\n",
       "      <td>109.035</td>\n",
       "      <td>109.21</td>\n",
       "      <td>2041167</td>\n",
       "      <td>208.16</td>\n",
       "      <td>208.34</td>\n",
       "      <td>206.87</td>\n",
       "      <td>207.93</td>\n",
       "      <td>87669782</td>\n",
       "    </tr>\n",
       "    <tr>\n",
       "      <th>2015-08-10 00:00:00-04:00</th>\n",
       "      <td>109.15</td>\n",
       "      <td>109.1700</td>\n",
       "      <td>108.920</td>\n",
       "      <td>109.06</td>\n",
       "      <td>1149778</td>\n",
       "      <td>209.28</td>\n",
       "      <td>210.67</td>\n",
       "      <td>209.28</td>\n",
       "      <td>210.58</td>\n",
       "      <td>66755890</td>\n",
       "    </tr>\n",
       "    <tr>\n",
       "      <th>2015-08-11 00:00:00-04:00</th>\n",
       "      <td>109.42</td>\n",
       "      <td>109.5765</td>\n",
       "      <td>109.284</td>\n",
       "      <td>109.42</td>\n",
       "      <td>1420907</td>\n",
       "      <td>208.98</td>\n",
       "      <td>209.47</td>\n",
       "      <td>207.76</td>\n",
       "      <td>208.63</td>\n",
       "      <td>88424557</td>\n",
       "    </tr>\n",
       "    <tr>\n",
       "      <th>2015-08-12 00:00:00-04:00</th>\n",
       "      <td>109.55</td>\n",
       "      <td>109.7100</td>\n",
       "      <td>109.350</td>\n",
       "      <td>109.36</td>\n",
       "      <td>1468979</td>\n",
       "      <td>207.11</td>\n",
       "      <td>209.14</td>\n",
       "      <td>205.36</td>\n",
       "      <td>208.89</td>\n",
       "      <td>136171450</td>\n",
       "    </tr>\n",
       "    <tr>\n",
       "      <th>2015-08-13 00:00:00-04:00</th>\n",
       "      <td>109.36</td>\n",
       "      <td>109.3651</td>\n",
       "      <td>109.110</td>\n",
       "      <td>109.15</td>\n",
       "      <td>1465173</td>\n",
       "      <td>208.73</td>\n",
       "      <td>209.55</td>\n",
       "      <td>208.01</td>\n",
       "      <td>208.63</td>\n",
       "      <td>77197796</td>\n",
       "    </tr>\n",
       "  </tbody>\n",
       "</table>\n",
       "</div>"
      ],
      "text/plain": [
       "                              AGG                                         SPY  \\\n",
       "                             open      high      low   close   volume    open   \n",
       "2015-08-07 00:00:00-04:00  109.14  109.2750  109.035  109.21  2041167  208.16   \n",
       "2015-08-10 00:00:00-04:00  109.15  109.1700  108.920  109.06  1149778  209.28   \n",
       "2015-08-11 00:00:00-04:00  109.42  109.5765  109.284  109.42  1420907  208.98   \n",
       "2015-08-12 00:00:00-04:00  109.55  109.7100  109.350  109.36  1468979  207.11   \n",
       "2015-08-13 00:00:00-04:00  109.36  109.3651  109.110  109.15  1465173  208.73   \n",
       "\n",
       "                                                              \n",
       "                             high     low   close     volume  \n",
       "2015-08-07 00:00:00-04:00  208.34  206.87  207.93   87669782  \n",
       "2015-08-10 00:00:00-04:00  210.67  209.28  210.58   66755890  \n",
       "2015-08-11 00:00:00-04:00  209.47  207.76  208.63   88424557  \n",
       "2015-08-12 00:00:00-04:00  209.14  205.36  208.89  136171450  \n",
       "2015-08-13 00:00:00-04:00  209.55  208.01  208.63   77197796  "
      ]
     },
     "execution_count": 58,
     "metadata": {},
     "output_type": "execute_result"
    }
   ],
   "source": [
    "# Get 5 years' worth of historical data for SPY and AGG\n",
    "# YOUR CODE HERE!\n",
    "df_stock_data = alpaca.get_barset(\n",
    "    tickers,\n",
    "    timeframe,\n",
    "    start = start_date,\n",
    "    end = end_date\n",
    ").df\n",
    "# Display sample data\n",
    "df_stock_data.head()"
   ]
  },
  {
   "cell_type": "code",
   "execution_count": 83,
   "metadata": {},
   "outputs": [],
   "source": [
    "# Configuring a Monte Carlo simulation to forecast 30 years cumulative returns\n",
    "# YOUR CODE HERE!\n",
    "MC_stock_data = MCSimulation(\n",
    "    portfolio_data = df_stock_data,\n",
    "    weights = [0.40,0.60],\n",
    "    num_simulation = 500,\n",
    "    num_trading_days = 252*30\n",
    ")"
   ]
  },
  {
   "cell_type": "code",
   "execution_count": 84,
   "metadata": {},
   "outputs": [
    {
     "data": {
      "text/html": [
       "<div>\n",
       "<style scoped>\n",
       "    .dataframe tbody tr th:only-of-type {\n",
       "        vertical-align: middle;\n",
       "    }\n",
       "\n",
       "    .dataframe tbody tr th {\n",
       "        vertical-align: top;\n",
       "    }\n",
       "\n",
       "    .dataframe thead tr th {\n",
       "        text-align: left;\n",
       "    }\n",
       "</style>\n",
       "<table border=\"1\" class=\"dataframe\">\n",
       "  <thead>\n",
       "    <tr>\n",
       "      <th></th>\n",
       "      <th colspan=\"6\" halign=\"left\">AGG</th>\n",
       "      <th colspan=\"6\" halign=\"left\">SPY</th>\n",
       "    </tr>\n",
       "    <tr>\n",
       "      <th></th>\n",
       "      <th>open</th>\n",
       "      <th>high</th>\n",
       "      <th>low</th>\n",
       "      <th>close</th>\n",
       "      <th>volume</th>\n",
       "      <th>daily_return</th>\n",
       "      <th>open</th>\n",
       "      <th>high</th>\n",
       "      <th>low</th>\n",
       "      <th>close</th>\n",
       "      <th>volume</th>\n",
       "      <th>daily_return</th>\n",
       "    </tr>\n",
       "  </thead>\n",
       "  <tbody>\n",
       "    <tr>\n",
       "      <th>2015-08-07 00:00:00-04:00</th>\n",
       "      <td>109.14</td>\n",
       "      <td>109.2750</td>\n",
       "      <td>109.035</td>\n",
       "      <td>109.21</td>\n",
       "      <td>2041167</td>\n",
       "      <td>NaN</td>\n",
       "      <td>208.16</td>\n",
       "      <td>208.34</td>\n",
       "      <td>206.87</td>\n",
       "      <td>207.93</td>\n",
       "      <td>87669782</td>\n",
       "      <td>NaN</td>\n",
       "    </tr>\n",
       "    <tr>\n",
       "      <th>2015-08-10 00:00:00-04:00</th>\n",
       "      <td>109.15</td>\n",
       "      <td>109.1700</td>\n",
       "      <td>108.920</td>\n",
       "      <td>109.06</td>\n",
       "      <td>1149778</td>\n",
       "      <td>-0.001374</td>\n",
       "      <td>209.28</td>\n",
       "      <td>210.67</td>\n",
       "      <td>209.28</td>\n",
       "      <td>210.58</td>\n",
       "      <td>66755890</td>\n",
       "      <td>0.012745</td>\n",
       "    </tr>\n",
       "    <tr>\n",
       "      <th>2015-08-11 00:00:00-04:00</th>\n",
       "      <td>109.42</td>\n",
       "      <td>109.5765</td>\n",
       "      <td>109.284</td>\n",
       "      <td>109.42</td>\n",
       "      <td>1420907</td>\n",
       "      <td>0.003301</td>\n",
       "      <td>208.98</td>\n",
       "      <td>209.47</td>\n",
       "      <td>207.76</td>\n",
       "      <td>208.63</td>\n",
       "      <td>88424557</td>\n",
       "      <td>-0.009260</td>\n",
       "    </tr>\n",
       "    <tr>\n",
       "      <th>2015-08-12 00:00:00-04:00</th>\n",
       "      <td>109.55</td>\n",
       "      <td>109.7100</td>\n",
       "      <td>109.350</td>\n",
       "      <td>109.36</td>\n",
       "      <td>1468979</td>\n",
       "      <td>-0.000548</td>\n",
       "      <td>207.11</td>\n",
       "      <td>209.14</td>\n",
       "      <td>205.36</td>\n",
       "      <td>208.89</td>\n",
       "      <td>136171450</td>\n",
       "      <td>0.001246</td>\n",
       "    </tr>\n",
       "    <tr>\n",
       "      <th>2015-08-13 00:00:00-04:00</th>\n",
       "      <td>109.36</td>\n",
       "      <td>109.3651</td>\n",
       "      <td>109.110</td>\n",
       "      <td>109.15</td>\n",
       "      <td>1465173</td>\n",
       "      <td>-0.001920</td>\n",
       "      <td>208.73</td>\n",
       "      <td>209.55</td>\n",
       "      <td>208.01</td>\n",
       "      <td>208.63</td>\n",
       "      <td>77197796</td>\n",
       "      <td>-0.001245</td>\n",
       "    </tr>\n",
       "  </tbody>\n",
       "</table>\n",
       "</div>"
      ],
      "text/plain": [
       "                              AGG                                      \\\n",
       "                             open      high      low   close   volume   \n",
       "2015-08-07 00:00:00-04:00  109.14  109.2750  109.035  109.21  2041167   \n",
       "2015-08-10 00:00:00-04:00  109.15  109.1700  108.920  109.06  1149778   \n",
       "2015-08-11 00:00:00-04:00  109.42  109.5765  109.284  109.42  1420907   \n",
       "2015-08-12 00:00:00-04:00  109.55  109.7100  109.350  109.36  1468979   \n",
       "2015-08-13 00:00:00-04:00  109.36  109.3651  109.110  109.15  1465173   \n",
       "\n",
       "                                           SPY                          \\\n",
       "                          daily_return    open    high     low   close   \n",
       "2015-08-07 00:00:00-04:00          NaN  208.16  208.34  206.87  207.93   \n",
       "2015-08-10 00:00:00-04:00    -0.001374  209.28  210.67  209.28  210.58   \n",
       "2015-08-11 00:00:00-04:00     0.003301  208.98  209.47  207.76  208.63   \n",
       "2015-08-12 00:00:00-04:00    -0.000548  207.11  209.14  205.36  208.89   \n",
       "2015-08-13 00:00:00-04:00    -0.001920  208.73  209.55  208.01  208.63   \n",
       "\n",
       "                                                   \n",
       "                              volume daily_return  \n",
       "2015-08-07 00:00:00-04:00   87669782          NaN  \n",
       "2015-08-10 00:00:00-04:00   66755890     0.012745  \n",
       "2015-08-11 00:00:00-04:00   88424557    -0.009260  \n",
       "2015-08-12 00:00:00-04:00  136171450     0.001246  \n",
       "2015-08-13 00:00:00-04:00   77197796    -0.001245  "
      ]
     },
     "execution_count": 84,
     "metadata": {},
     "output_type": "execute_result"
    }
   ],
   "source": [
    "# Printing the simulation input data\n",
    "# YOUR CODE HERE!\n",
    "MC_stock_data.portfolio_data.head()"
   ]
  },
  {
   "cell_type": "code",
   "execution_count": null,
   "metadata": {},
   "outputs": [
    {
     "name": "stdout",
     "output_type": "stream",
     "text": [
      "Running Monte Carlo simulation number 0.\n",
      "Running Monte Carlo simulation number 10.\n",
      "Running Monte Carlo simulation number 20.\n",
      "Running Monte Carlo simulation number 30.\n",
      "Running Monte Carlo simulation number 40.\n",
      "Running Monte Carlo simulation number 50.\n",
      "Running Monte Carlo simulation number 60.\n",
      "Running Monte Carlo simulation number 70.\n",
      "Running Monte Carlo simulation number 80.\n",
      "Running Monte Carlo simulation number 90.\n",
      "Running Monte Carlo simulation number 100.\n"
     ]
    }
   ],
   "source": [
    "# Running a Monte Carlo simulation to forecast 30 years cumulative returns\n",
    "# YOUR CODE HERE!\n",
    "MC_stock_data.calc_cumulative_return()"
   ]
  },
  {
   "cell_type": "code",
   "execution_count": null,
   "metadata": {},
   "outputs": [],
   "source": [
    "# Plot simulation outcomes\n",
    "# YOUR CODE HERE!\n",
    "line_plot = MC_stock_data.plot_simulation()"
   ]
  },
  {
   "cell_type": "code",
   "execution_count": null,
   "metadata": {},
   "outputs": [],
   "source": [
    "# Plot probability distribution and confidence intervals\n",
    "# YOUR CODE HERE!\n",
    "line_plot = MC_stock_data.plot_distribution()"
   ]
  },
  {
   "cell_type": "markdown",
   "metadata": {},
   "source": [
    "### Retirement Analysis"
   ]
  },
  {
   "cell_type": "code",
   "execution_count": null,
   "metadata": {},
   "outputs": [],
   "source": [
    "# Fetch summary statistics from the Monte Carlo simulation results\n",
    "# YOUR CODE HERE!\n",
    "even_tbl = MC_stock_data.summarize_cumulative_return()\n",
    "\n",
    "# Print summary statistics\n",
    "# YOUR CODE HERE!\n",
    "print(even_tbl)"
   ]
  },
  {
   "cell_type": "markdown",
   "metadata": {},
   "source": [
    "### Calculate the expected portfolio return at the 95% lower and upper confidence intervals based on a `$20,000` initial investment."
   ]
  },
  {
   "cell_type": "code",
   "execution_count": null,
   "metadata": {},
   "outputs": [],
   "source": [
    "# Set initial investment\n",
    "initial_investment = 20000\n",
    "\n",
    "# Use the lower and upper `95%` confidence intervals to calculate the range of the possible outcomes of our $20,000\n",
    "# YOUR CODE HERE!\n",
    "ci_lower = round(even_tbl[8]*initial_investment,2)\n",
    "ci_upper = round(even_tbl[9]*initial_investment,2)\n",
    "\n",
    "# Print results\n",
    "print(f\"There is a 95% chance that an initial investment of ${initial_investment} in the portfolio\"\n",
    "      f\" over the next 30 years will end within in the range of\"\n",
    "      f\" ${ci_lower} and ${ci_upper}\")"
   ]
  },
  {
   "cell_type": "markdown",
   "metadata": {},
   "source": [
    "### Calculate the expected portfolio return at the `95%` lower and upper confidence intervals based on a `50%` increase in the initial investment."
   ]
  },
  {
   "cell_type": "code",
   "execution_count": null,
   "metadata": {},
   "outputs": [],
   "source": [
    "# Set initial investment\n",
    "initial_investment = 20000 * 1.5\n",
    "\n",
    "# Use the lower and upper `95%` confidence intervals to calculate the range of the possible outcomes of our $30,000\n",
    "# YOUR CODE HERE!\n",
    "ci_lower = round(even_tbl[8]*initial_investment,2)\n",
    "ci_upper = round(even_tbl[9]*initial_investment,2)\n",
    "\n",
    "# Print results\n",
    "print(f\"There is a 95% chance that an initial investment of ${initial_investment} in the portfolio\"\n",
    "      f\" over the next 30 years will end within in the range of\"\n",
    "      f\" ${ci_lower} and ${ci_upper}\")"
   ]
  },
  {
   "cell_type": "markdown",
   "metadata": {},
   "source": [
    "## Optional Challenge - Early Retirement\n",
    "\n",
    "\n",
    "### Five Years Retirement Option"
   ]
  },
  {
   "cell_type": "code",
   "execution_count": null,
   "metadata": {},
   "outputs": [],
   "source": [
    "# Configuring a Monte Carlo simulation to forecast 5 years cumulative returns\n",
    "# YOUR CODE HERE!\n",
    "MC_stock_data = MCSimulation(\n",
    "    portfolio_data = df_stock_data,\n",
    "    weights = [0.40,0.60],\n",
    "    num_simulation = 500,\n",
    "    num_trading_days = 252*5\n",
    ")"
   ]
  },
  {
   "cell_type": "code",
   "execution_count": null,
   "metadata": {},
   "outputs": [],
   "source": [
    "# Running a Monte Carlo simulation to forecast 5 years cumulative returns\n",
    "# YOUR CODE HERE!\n",
    "MC_stock_data.calc_cumulative_return()"
   ]
  },
  {
   "cell_type": "code",
   "execution_count": null,
   "metadata": {},
   "outputs": [],
   "source": [
    "# Plot simulation outcomes\n",
    "# YOUR CODE HERE!\n",
    "line_plot = MC_stock_data.plot_simulation()"
   ]
  },
  {
   "cell_type": "code",
   "execution_count": null,
   "metadata": {},
   "outputs": [],
   "source": [
    "# Plot probability distribution and confidence intervals\n",
    "# YOUR CODE HERE!\n",
    "line_plot = MC_stock_data.plot_distribution()"
   ]
  },
  {
   "cell_type": "code",
   "execution_count": null,
   "metadata": {},
   "outputs": [],
   "source": [
    "# Fetch summary statistics from the Monte Carlo simulation results\n",
    "# YOUR CODE HERE!\n",
    "even_tbl = MC_stock_data.summarize_cumulative_return()\n",
    "\n",
    "# Print summary statistics\n",
    "# YOUR CODE HERE!\n",
    "print(even_tbl)"
   ]
  },
  {
   "cell_type": "code",
   "execution_count": null,
   "metadata": {},
   "outputs": [],
   "source": [
    "# Set initial investment\n",
    "# YOUR CODE HERE!\n",
    "initial_investment = 100000\n",
    "\n",
    "# Use the lower and upper `95%` confidence intervals to calculate the range of the possible outcomes of our $60,000\n",
    "# YOUR CODE HERE!\n",
    "ci_lower_five = round(even_tbl[8]*initial_investment,2)\n",
    "ci_upper_five = round(even_tbl[9]*initial_investment,2)\n",
    "\n",
    "# Print results\n",
    "print(f\"There is a 95% chance that an initial investment of ${initial_investment} in the portfolio\"\n",
    "      f\" over the next 5 years will end within in the range of\"\n",
    "      f\" ${ci_lower_five} and ${ci_upper_five}\")"
   ]
  },
  {
   "cell_type": "markdown",
   "metadata": {},
   "source": [
    "### Ten Years Retirement Option"
   ]
  },
  {
   "cell_type": "code",
   "execution_count": null,
   "metadata": {},
   "outputs": [],
   "source": [
    "# Configuring a Monte Carlo simulation to forecast 10 years cumulative returns\n",
    "# YOUR CODE HERE!\n",
    "MC_stock_data = MCSimulation(\n",
    "    portfolio_data = df_stock_data,\n",
    "    weights = [0.40,0.60],\n",
    "    num_simulation = 500,\n",
    "    num_trading_days = 252*5\n",
    ")"
   ]
  },
  {
   "cell_type": "code",
   "execution_count": null,
   "metadata": {},
   "outputs": [],
   "source": [
    "# Running a Monte Carlo simulation to forecast 10 years cumulative returns\n",
    "# YOUR CODE HERE!\n",
    "MC_stock_data.calc_cumulative_return()"
   ]
  },
  {
   "cell_type": "code",
   "execution_count": null,
   "metadata": {},
   "outputs": [],
   "source": [
    "# Plot simulation outcomes\n",
    "# YOUR CODE HERE!\n",
    "line_plot = MC_stock_data.plot_simulation()"
   ]
  },
  {
   "cell_type": "code",
   "execution_count": null,
   "metadata": {},
   "outputs": [],
   "source": [
    "# Plot probability distribution and confidence intervals\n",
    "# YOUR CODE HERE!\n",
    "line_plot = MC_stock_data.plot_distribution()"
   ]
  },
  {
   "cell_type": "code",
   "execution_count": null,
   "metadata": {},
   "outputs": [],
   "source": [
    "# Fetch summary statistics from the Monte Carlo simulation results\n",
    "# YOUR CODE HERE!\n",
    "even_tbl = MC_stock_data.summarize_cumulative_return()\n",
    "\n",
    "# Print summary statistics\n",
    "# YOUR CODE HERE!\n",
    "print(even_tbl)"
   ]
  },
  {
   "cell_type": "code",
   "execution_count": null,
   "metadata": {},
   "outputs": [],
   "source": [
    "# Set initial investment\n",
    "# YOUR CODE HERE!\n",
    "initial_investment = 100000\n",
    "# Use the lower and upper `95%` confidence intervals to calculate the range of the possible outcomes of our $60,000\n",
    "# YOUR CODE HERE!\n",
    "ci_lower_ten = round(even_tbl[8]*initial_investment,2)\n",
    "ci_upper_ten = round(even_tbl[9]*initial_investment,2)\n",
    "\n",
    "# Print results\n",
    "print(f\"There is a 95% chance that an initial investment of ${initial_investment} in the portfolio\"\n",
    "      f\" over the next 10 years will end within in the range of\"\n",
    "      f\" ${ci_lower_ten} and ${ci_upper_ten}\")"
   ]
  },
  {
   "cell_type": "code",
   "execution_count": null,
   "metadata": {},
   "outputs": [],
   "source": []
  }
 ],
 "metadata": {
  "kernelspec": {
   "display_name": "Python 3",
   "language": "python",
   "name": "python3"
  },
  "language_info": {
   "codemirror_mode": {
    "name": "ipython",
    "version": 3
   },
   "file_extension": ".py",
   "mimetype": "text/x-python",
   "name": "python",
   "nbconvert_exporter": "python",
   "pygments_lexer": "ipython3",
   "version": "3.7.7"
  }
 },
 "nbformat": 4,
 "nbformat_minor": 4
}
